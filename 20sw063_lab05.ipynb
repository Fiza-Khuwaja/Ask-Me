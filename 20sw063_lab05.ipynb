{
  "cells": [
    {
      "cell_type": "markdown",
      "metadata": {
        "id": "view-in-github",
        "colab_type": "text"
      },
      "source": [
        "<a href=\"https://colab.research.google.com/github/Fiza-Khuwaja/Ask-Me/blob/main/20sw063_lab05.ipynb\" target=\"_parent\"><img src=\"https://colab.research.google.com/assets/colab-badge.svg\" alt=\"Open In Colab\"/></a>"
      ]
    },
    {
      "cell_type": "code",
      "execution_count": null,
      "id": "dfac8793",
      "metadata": {
        "id": "dfac8793",
        "outputId": "246fee9a-f3e6-48c6-fc26-15a87069fa2a"
      },
      "outputs": [
        {
          "name": "stdout",
          "output_type": "stream",
          "text": [
            "Earth       149.6\n",
            "Saturn     1433.5\n",
            "Mars        227.9\n",
            "Venus       108.2\n",
            "Jupiter     778.6\n",
            "dtype: float64\n",
            "\n",
            "Planets where sunlight takes less 40 mins to reach: \n",
            "Earth    149.6\n",
            "Mars     227.9\n",
            "Venus    108.2\n",
            "dtype: float64\n"
          ]
        }
      ],
      "source": [
        "\n",
        "# Task#01\n",
        "\n",
        "# # Create a Pandas Series that contains the distance of some planets from the Sun.\n",
        "# # Use the name of the planets as the index to your Pandas Series, and the distance\n",
        "# # from the Sun as your data. The distance from the Sun is in units of 10^6 km\n",
        "\n",
        "# distance_from_sun = [149.6, 1433.5, 227.9, 108.2, 778.6]\n",
        "\n",
        "# planets = ['Earth','Saturn', 'Mars','Venus', 'Jupiter']\n",
        "\n",
        "# # Create a Pandas Series using the above data, with the name of the planets as\n",
        "# # the index and the distance from the Sun as your data.\n",
        "\n",
        "import pandas as pd\n",
        "\n",
        "dist_planets = pd.Series([149.6, 1433.5, 227.9, 108.2, 778.6], index=['Earth','Saturn', 'Mars','Venus', 'Jupiter'], dtype='float64')\n",
        "print(dist_planets)\n",
        "# Calculate the number of minutes it takes sunlight to reach each planet. You can\n",
        "# do this by dividing the distance from the Sun for each planet by the speed of light.\n",
        "# Since in the data above the distance from the Sun is in units of 10^6 km, you can\n",
        "# use a value for the speed of light of c = 18, since light travels 18 x 10^6 km/minute.\n",
        "#time_light =\n",
        "\n",
        "# Use Boolean indexing to select only those planets for which sunlight takes less\n",
        "# than 40 minutes to reach them.\n",
        "mins = dist_planets/18 < 40\n",
        "if dist_planets.any():\n",
        "    print(f\"\\nPlanets where sunlight takes less 40 mins to reach: \\n{dist_planets[mins]}\")\n",
        "\n",
        "\n"
      ]
    },
    {
      "cell_type": "code",
      "execution_count": null,
      "id": "575c43c0",
      "metadata": {
        "id": "575c43c0"
      },
      "outputs": [],
      "source": [
        "# Task#02\n",
        "import numpy as np\n",
        "import pandas as pd\n",
        "\n",
        "pd.set_option('precision', 1)\n",
        "\n",
        "# # Since we will be working with ratings, we will set the precision of our\n",
        "# # dataframes to one decimal place.\n",
        "\n",
        "\n",
        "# # Create a Pandas DataFrame that contains the ratings some users have given to a\n",
        "# # series of books. The ratings given are in the range from 1 to 5, with 5 being\n",
        "# # the best score. The names of the books, the authors, and the ratings of each user\n",
        "# # are given below:\n",
        "\n",
        "books = pd.Series(data = ['Great Expectations', 'Of Mice and Men', 'Romeo and Juliet', 'The Time Machine', 'Alice in Wonderland' ])\n",
        "authors = pd.Series(data = ['Charles Dickens', 'John Steinbeck', 'William Shakespeare', ' H. G. Wells', 'Lewis Carroll' ])\n",
        "\n",
        "user_1 = pd.Series(data = [3.2, np.nan ,2.5])\n",
        "user_2 = pd.Series(data = [5., 1.3, 4.0, 3.8])\n",
        "user_3 = pd.Series(data = [2.0, 2.3, np.nan, 4])\n",
        "user_4 = pd.Series(data = [4, 3.5, 4, 5, 4.2])\n",
        "\n",
        "# # Users that have np.nan values means that the user has not yet rated that book.\n",
        "# # Use the data above to create a Pandas DataFrame that has the following column\n",
        "# # labels: 'Author', 'Book Title', 'User 1', 'User 2', 'User 3', 'User 4'. Let Pandas\n",
        "# # automatically assign numerical row indices to the DataFrame.\n",
        "\n",
        "# # Create a dictionary with the data given above\n",
        "dat = {\n",
        "    \"Books\" : books,\n",
        "    \"Author\" : authors,\n",
        "    \"User 1\" : user_1,\n",
        "    \"User 2\" : user_2,\n",
        "    \"User 3\" : user_3,\n",
        "    \"User 4\" : user_4,\n",
        "\n",
        "}\n",
        "\n",
        "# # Use the dictionary to create a Pandas DataFrame\n",
        "book_ratings = pd.DataFrame(dat)\n",
        "\n",
        "\n"
      ]
    },
    {
      "cell_type": "code",
      "execution_count": null,
      "id": "7d359cba",
      "metadata": {
        "id": "7d359cba",
        "outputId": "ba8af964-d753-4baa-a287-4cb93759a6ab"
      },
      "outputs": [
        {
          "data": {
            "text/html": [
              "<div>\n",
              "<style scoped>\n",
              "    .dataframe tbody tr th:only-of-type {\n",
              "        vertical-align: middle;\n",
              "    }\n",
              "\n",
              "    .dataframe tbody tr th {\n",
              "        vertical-align: top;\n",
              "    }\n",
              "\n",
              "    .dataframe thead th {\n",
              "        text-align: right;\n",
              "    }\n",
              "</style>\n",
              "<table border=\"1\" class=\"dataframe\">\n",
              "  <thead>\n",
              "    <tr style=\"text-align: right;\">\n",
              "      <th></th>\n",
              "      <th>Books</th>\n",
              "      <th>Author</th>\n",
              "      <th>User 1</th>\n",
              "      <th>User 2</th>\n",
              "      <th>User 3</th>\n",
              "      <th>User 4</th>\n",
              "    </tr>\n",
              "  </thead>\n",
              "  <tbody>\n",
              "    <tr>\n",
              "      <th>0</th>\n",
              "      <td>Great Expectations</td>\n",
              "      <td>Charles Dickens</td>\n",
              "      <td>3.2</td>\n",
              "      <td>5.0</td>\n",
              "      <td>2.0</td>\n",
              "      <td>4.0</td>\n",
              "    </tr>\n",
              "    <tr>\n",
              "      <th>1</th>\n",
              "      <td>Of Mice and Men</td>\n",
              "      <td>John Steinbeck</td>\n",
              "      <td>NaN</td>\n",
              "      <td>1.3</td>\n",
              "      <td>2.3</td>\n",
              "      <td>3.5</td>\n",
              "    </tr>\n",
              "    <tr>\n",
              "      <th>2</th>\n",
              "      <td>Romeo and Juliet</td>\n",
              "      <td>William Shakespeare</td>\n",
              "      <td>2.5</td>\n",
              "      <td>4.0</td>\n",
              "      <td>NaN</td>\n",
              "      <td>4.0</td>\n",
              "    </tr>\n",
              "    <tr>\n",
              "      <th>3</th>\n",
              "      <td>The Time Machine</td>\n",
              "      <td>H. G. Wells</td>\n",
              "      <td>NaN</td>\n",
              "      <td>3.8</td>\n",
              "      <td>4.0</td>\n",
              "      <td>5.0</td>\n",
              "    </tr>\n",
              "    <tr>\n",
              "      <th>4</th>\n",
              "      <td>Alice in Wonderland</td>\n",
              "      <td>Lewis Carroll</td>\n",
              "      <td>NaN</td>\n",
              "      <td>NaN</td>\n",
              "      <td>NaN</td>\n",
              "      <td>4.2</td>\n",
              "    </tr>\n",
              "  </tbody>\n",
              "</table>\n",
              "</div>"
            ],
            "text/plain": [
              "                 Books               Author  User 1  User 2  User 3  User 4\n",
              "0   Great Expectations      Charles Dickens     3.2     5.0     2.0     4.0\n",
              "1      Of Mice and Men       John Steinbeck     NaN     1.3     2.3     3.5\n",
              "2     Romeo and Juliet  William Shakespeare     2.5     4.0     NaN     4.0\n",
              "3     The Time Machine          H. G. Wells     NaN     3.8     4.0     5.0\n",
              "4  Alice in Wonderland        Lewis Carroll     NaN     NaN     NaN     4.2"
            ]
          },
          "execution_count": 4,
          "metadata": {},
          "output_type": "execute_result"
        }
      ],
      "source": [
        "# If you created the dictionary correctly you should have a Pandas DataFrame\n",
        "# that has column labels: 'Author', 'Book Title', 'User 1', 'User 2', 'User 3',\n",
        "# 'User 4' and row indices 0 through 4.\n",
        "\n",
        "book_ratings"
      ]
    },
    {
      "cell_type": "code",
      "execution_count": null,
      "id": "63d3b3e9",
      "metadata": {
        "id": "63d3b3e9"
      },
      "outputs": [],
      "source": [
        "# Now replace all the NaN values in your DataFrame with the average rating in\n",
        "# each column. Replace the NaN values in place. HINT: you can use the fillna()\n",
        "# function with the keyword inplace = True, to do this. Write your code below:\n",
        "\n",
        "book_ratings[\"User 1\"] = book_ratings[\"User 1\"].fillna(book_ratings[\"User 1\"].mean(), inplace=True)\n",
        "book_ratings[\"User 2\"] = book_ratings[\"User 2\"].fillna(book_ratings[\"User 2\"].mean())\n",
        "book_ratings[\"User 3\"] = book_ratings[\"User 3\"].fillna(book_ratings[\"User 3\"].mean())\n",
        "book_ratings[\"User 4\"] = book_ratings[\"User 4\"].fillna(book_ratings[\"User 4\"].mean())"
      ]
    },
    {
      "cell_type": "code",
      "execution_count": null,
      "id": "b5bfc1dc",
      "metadata": {
        "id": "b5bfc1dc",
        "outputId": "1c245a7a-ebdf-461e-edb2-fb7bb92e1063"
      },
      "outputs": [
        {
          "data": {
            "text/html": [
              "<div>\n",
              "<style scoped>\n",
              "    .dataframe tbody tr th:only-of-type {\n",
              "        vertical-align: middle;\n",
              "    }\n",
              "\n",
              "    .dataframe tbody tr th {\n",
              "        vertical-align: top;\n",
              "    }\n",
              "\n",
              "    .dataframe thead th {\n",
              "        text-align: right;\n",
              "    }\n",
              "</style>\n",
              "<table border=\"1\" class=\"dataframe\">\n",
              "  <thead>\n",
              "    <tr style=\"text-align: right;\">\n",
              "      <th></th>\n",
              "      <th>Books</th>\n",
              "      <th>Author</th>\n",
              "      <th>User 1</th>\n",
              "      <th>User 2</th>\n",
              "      <th>User 3</th>\n",
              "      <th>User 4</th>\n",
              "    </tr>\n",
              "  </thead>\n",
              "  <tbody>\n",
              "    <tr>\n",
              "      <th>0</th>\n",
              "      <td>Great Expectations</td>\n",
              "      <td>Charles Dickens</td>\n",
              "      <td>None</td>\n",
              "      <td>5.0</td>\n",
              "      <td>2.0</td>\n",
              "      <td>4.0</td>\n",
              "    </tr>\n",
              "    <tr>\n",
              "      <th>1</th>\n",
              "      <td>Of Mice and Men</td>\n",
              "      <td>John Steinbeck</td>\n",
              "      <td>None</td>\n",
              "      <td>1.3</td>\n",
              "      <td>2.3</td>\n",
              "      <td>3.5</td>\n",
              "    </tr>\n",
              "    <tr>\n",
              "      <th>2</th>\n",
              "      <td>Romeo and Juliet</td>\n",
              "      <td>William Shakespeare</td>\n",
              "      <td>None</td>\n",
              "      <td>4.0</td>\n",
              "      <td>2.8</td>\n",
              "      <td>4.0</td>\n",
              "    </tr>\n",
              "    <tr>\n",
              "      <th>3</th>\n",
              "      <td>The Time Machine</td>\n",
              "      <td>H. G. Wells</td>\n",
              "      <td>None</td>\n",
              "      <td>3.8</td>\n",
              "      <td>4.0</td>\n",
              "      <td>5.0</td>\n",
              "    </tr>\n",
              "    <tr>\n",
              "      <th>4</th>\n",
              "      <td>Alice in Wonderland</td>\n",
              "      <td>Lewis Carroll</td>\n",
              "      <td>None</td>\n",
              "      <td>3.5</td>\n",
              "      <td>2.8</td>\n",
              "      <td>4.2</td>\n",
              "    </tr>\n",
              "  </tbody>\n",
              "</table>\n",
              "</div>"
            ],
            "text/plain": [
              "                 Books               Author User 1  User 2  User 3  User 4\n",
              "0   Great Expectations      Charles Dickens   None     5.0     2.0     4.0\n",
              "1      Of Mice and Men       John Steinbeck   None     1.3     2.3     3.5\n",
              "2     Romeo and Juliet  William Shakespeare   None     4.0     2.8     4.0\n",
              "3     The Time Machine          H. G. Wells   None     3.8     4.0     5.0\n",
              "4  Alice in Wonderland        Lewis Carroll   None     3.5     2.8     4.2"
            ]
          },
          "execution_count": 6,
          "metadata": {},
          "output_type": "execute_result"
        }
      ],
      "source": [
        "book_ratings"
      ]
    },
    {
      "cell_type": "code",
      "execution_count": null,
      "id": "20bb71f0",
      "metadata": {
        "id": "20bb71f0"
      },
      "outputs": [],
      "source": [
        "best_rated = book_ratings[(book_ratings == 5).any(axis = 1)]['Books'].values"
      ]
    },
    {
      "cell_type": "code",
      "execution_count": null,
      "id": "9630cac0",
      "metadata": {
        "id": "9630cac0",
        "outputId": "60817419-5b31-4017-c292-062204d70028"
      },
      "outputs": [
        {
          "data": {
            "text/plain": [
              "array(['Great Expectations', 'The Time Machine'], dtype=object)"
            ]
          },
          "execution_count": 9,
          "metadata": {},
          "output_type": "execute_result"
        }
      ],
      "source": [
        "best_rated"
      ]
    },
    {
      "cell_type": "code",
      "execution_count": null,
      "id": "87b22ae7",
      "metadata": {
        "id": "87b22ae7"
      },
      "outputs": [],
      "source": []
    }
  ],
  "metadata": {
    "kernelspec": {
      "display_name": "Python 3 (ipykernel)",
      "language": "python",
      "name": "python3"
    },
    "language_info": {
      "codemirror_mode": {
        "name": "ipython",
        "version": 3
      },
      "file_extension": ".py",
      "mimetype": "text/x-python",
      "name": "python",
      "nbconvert_exporter": "python",
      "pygments_lexer": "ipython3",
      "version": "3.9.7"
    },
    "colab": {
      "provenance": [],
      "include_colab_link": true
    }
  },
  "nbformat": 4,
  "nbformat_minor": 5
}